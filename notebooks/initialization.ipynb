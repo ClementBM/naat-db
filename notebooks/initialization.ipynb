{
 "cells": [
  {
   "cell_type": "markdown",
   "metadata": {},
   "source": [
    "# \n",
    "\n",
    "* https://duckdb.org/docs/guides/python/jupyter\n",
    "* https://github.com/mehd-io/pypi-duck-flow\n",
    "* https://motherduck.com/blog/duckdb-python-e2e-data-engineering-project-part-1/\n",
    "* https://github.com/kaislar/ds_template\n",
    "* https://github.com/danielbeach/dataEngineeringTemplate/tree/main\n",
    "* https://www.confessionsofadataguy.com/data-engineering-data-pipeline-repo-project-template-free/"
   ]
  },
  {
   "cell_type": "code",
   "execution_count": 61,
   "metadata": {},
   "outputs": [],
   "source": [
    "import duckdb\n",
    "from artifacts import NAAT_DB_PATH\n",
    "from naat_bdd import MODELS_FOLDER_PATH\n",
    "\n",
    "con = duckdb.connect(database = \":memory:\")"
   ]
  },
  {
   "cell_type": "code",
   "execution_count": 62,
   "metadata": {},
   "outputs": [],
   "source": [
    "sql_tables = [\n",
    "    \"DecisionStatus.sql\",\n",
    "    \"Jurisdiction.sql\",\n",
    "    \"GroundType.sql\",\n",
    "    \"Ground.sql\",\n",
    "    \"LegalCaseStatus.sql\",\n",
    "    \"AgentType.sql\",\n",
    "    \"Agent.sql\",\n",
    "    \"AppealType.sql\",\n",
    "    \"LegalCase.sql\",\n",
    "    \"Decision.sql\",\n",
    "    \"ResourceType.sql\",\n",
    "    \"Resource.sql\",\n",
    "    \"DecisionResource.sql\",\n",
    "    \"AgentParty.sql\",\n",
    "    \"LegalCaseAgent.sql\",\n",
    "    \"DecisionGround.sql\",\n",
    "]"
   ]
  },
  {
   "cell_type": "code",
   "execution_count": 63,
   "metadata": {},
   "outputs": [
    {
     "name": "stdout",
     "output_type": "stream",
     "text": [
      "DecisionStatus.sql\n",
      "Jurisdiction.sql\n",
      "GroundType.sql\n",
      "Ground.sql\n",
      "LegalCaseStatus.sql\n",
      "AgentType.sql\n",
      "Agent.sql\n",
      "AppealType.sql\n",
      "LegalCase.sql\n",
      "Decision.sql\n",
      "ResourceType.sql\n",
      "Resource.sql\n",
      "DecisionResource.sql\n",
      "AgentParty.sql\n",
      "LegalCaseAgent.sql\n",
      "DecisionGround.sql\n"
     ]
    }
   ],
   "source": [
    "for sql_table in sql_tables:\n",
    "    con.sql((MODELS_FOLDER_PATH / sql_table).read_text())\n",
    "\n",
    "con.sql((MODELS_FOLDER_PATH.parent / \"init_db.sql\").read_text())"
   ]
  },
  {
   "cell_type": "code",
   "execution_count": 67,
   "metadata": {},
   "outputs": [
    {
     "data": {
      "text/plain": [
       "┌───────────────────┐\n",
       "│       name        │\n",
       "│      varchar      │\n",
       "├───────────────────┤\n",
       "│ Agent             │\n",
       "│ Agent_Party       │\n",
       "│ Agent_Type        │\n",
       "│ Appeal_Type       │\n",
       "│ Decision          │\n",
       "│ Decision_Ground   │\n",
       "│ Decision_Resource │\n",
       "│ Decision_Status   │\n",
       "│ Ground            │\n",
       "│ Ground_Type       │\n",
       "│ Jurisdiction      │\n",
       "│ Legal_Case        │\n",
       "│ Legal_Case_Agent  │\n",
       "│ Legal_Case_Status │\n",
       "│ Resource          │\n",
       "│ Resource_Type     │\n",
       "├───────────────────┤\n",
       "│      16 rows      │\n",
       "└───────────────────┘"
      ]
     },
     "execution_count": 67,
     "metadata": {},
     "output_type": "execute_result"
    }
   ],
   "source": [
    "con.sql(\"SHOW TABLES;\")"
   ]
  }
 ],
 "metadata": {
  "kernelspec": {
   "display_name": ".venv",
   "language": "python",
   "name": "python3"
  },
  "language_info": {
   "codemirror_mode": {
    "name": "ipython",
    "version": 3
   },
   "file_extension": ".py",
   "mimetype": "text/x-python",
   "name": "python",
   "nbconvert_exporter": "python",
   "pygments_lexer": "ipython3",
   "version": "3.10.12"
  }
 },
 "nbformat": 4,
 "nbformat_minor": 2
}
